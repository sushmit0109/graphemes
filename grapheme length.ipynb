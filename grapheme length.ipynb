{
 "cells": [
  {
   "cell_type": "code",
   "execution_count": 1,
   "id": "675cfcd4",
   "metadata": {},
   "outputs": [],
   "source": [
    "vowels                 =   ['অ', 'আ', 'ই', 'ঈ', 'উ', 'ঊ', 'ঋ', 'এ', 'ঐ', 'ও', 'ঔ']\n",
    "consonants             =   ['ক', 'খ', 'গ', 'ঘ', 'ঙ', \n",
    "                                         'চ', 'ছ','জ', 'ঝ', 'ঞ', \n",
    "                                         'ট', 'ঠ', 'ড', 'ঢ', 'ণ', \n",
    "                                         'ত', 'থ', 'দ', 'ধ', 'ন', \n",
    "                                         'প', 'ফ', 'ব', 'ভ', 'ম', \n",
    "                                         'য', 'র', 'ল', 'শ', 'ষ', \n",
    "                                         'স', 'হ','ড়', 'ঢ়', 'য়' , 'ক্ষ']\n",
    "modifiers              =   ['ঁ', 'ং', 'ঃ','ৎ']\n",
    "        # diacritics\n",
    "vowel_diacritics       =   ['া', 'ি', 'ী', 'ু', 'ূ', 'ৃ', 'ে', 'ৈ', 'ো', 'ৌ']\n",
    "consonant_diacritics   =   ['ঁ', 'র্', 'র্য', '্য', '্র', '্র্য', 'র্্র']\n",
    "\n",
    "\n",
    "conjunct = ['ক্ক', 'ক্ট', 'ক্ত', 'ক্ল', 'ক্ষ্ণ', 'ক্ষ্ম', 'ক্স', 'গ্ধ', 'গ্ন', 'গ্ব', 'গ্ম', 'গ্ল', 'ঘ্ন', 'ঙ্ক', 'ঙ্ক্ত', 'ঙ্ক্ষ', 'ঙ্খ', 'ঙ্গ', 'ঙ্ঘ',\n",
    " 'চ্চ', 'চ্ছ', 'চ্ছ্ব', 'জ্জ', 'জ্জ্ব', 'জ্ঞ', 'জ্ব', 'ঞ্চ', 'ঞ্ছ', 'ঞ্জ', 'ট্ট', 'ড্ড', 'ণ্ট', 'ণ্ঠ', 'ণ্ড', 'ণ্ণ',\n",
    " 'ত্ত', 'ত্ত্ব', 'ত্থ', 'ত্ন',  'ত্ব', 'ত্ম', 'দ্ঘ', 'দ্দ', 'দ্ধ', 'দ্ব', 'দ্ভ', 'দ্ম', 'ধ্ব', 'ন্জ', 'ন্ট', 'ন্ঠ', 'ন্ড', 'ন্ত',\n",
    " 'ন্ত্ব', 'ন্থ', 'ন্দ', 'ন্দ্ব', 'ন্ধ', 'ন্ন', 'ন্ব', 'ন্ম', 'ন্স', 'প্ট', 'প্ত', 'প্ন', 'প্প', 'প্ল', 'প্স', 'ফ্ট', 'ফ্ফ', 'ফ্ল', 'ব্জ', 'ব্দ', 'ব্ধ', 'ব্ব', 'ব্ল',\n",
    " 'ভ্ল', 'ম্ন', 'ম্প', 'ম্ব', 'ম্ভ', 'ম্ম', 'ম্ল', 'ল্ক', 'ল্গ', 'ল্ট', 'ল্ড', 'ল্প', 'ল্ব', 'ল্ম', 'ল্ল', 'শ্চ', 'শ্ন', 'শ্ব', 'শ্ম', 'শ্ল', 'ষ্ক', 'ষ্ট', 'ষ্ঠ',\n",
    " 'ষ্ণ', 'ষ্প', 'ষ্ফ', 'ষ্ম', 'স্ক', 'স্ট', 'স্ত', 'স্থ', 'স্ন', 'স্প', 'স্ফ', 'স্ব', 'স্ম', 'স্ল', 'স্স', 'হ্ন','হ্ব','হ্ম','হ্ল']"
   ]
  },
  {
   "cell_type": "code",
   "execution_count": 158,
   "id": "d59e06de",
   "metadata": {},
   "outputs": [],
   "source": [
    "word =  'সাগস্খ' # স্খ NOT IN PREVIOUS LIST"
   ]
  },
  {
   "cell_type": "code",
   "execution_count": 162,
   "id": "707529e1",
   "metadata": {},
   "outputs": [],
   "source": [
    "def grapheme_length(word):\n",
    "\n",
    "    count = 0\n",
    "\n",
    "    for each in modifiers+vowel_diacritics+consonant_diacritics:\n",
    "        if each in word:\n",
    "            word = word.replace(each, '')\n",
    "\n",
    "    for each in conjunct:\n",
    "        if each in word:\n",
    "            count = count+ word.count(each)\n",
    "            word = word.replace(each,'')\n",
    "            #print(count, each)\n",
    "\n",
    "    for each in consonants+vowels:\n",
    "        if each in word:\n",
    "            count = count+ word.count(each)\n",
    "            word = word.replace(each, '')\n",
    "            #print(count, each)\n",
    "\n",
    "    if word == '্':\n",
    "        count = count - 1 # handling \n",
    "        \n",
    "    return count"
   ]
  },
  {
   "cell_type": "code",
   "execution_count": 163,
   "id": "2cb97a58",
   "metadata": {},
   "outputs": [
    {
     "data": {
      "text/plain": [
       "4"
      ]
     },
     "execution_count": 163,
     "metadata": {},
     "output_type": "execute_result"
    }
   ],
   "source": [
    "grapheme_length(word)"
   ]
  },
  {
   "cell_type": "code",
   "execution_count": 161,
   "id": "00e9fb9e",
   "metadata": {},
   "outputs": [
    {
     "data": {
      "text/plain": [
       "3"
      ]
     },
     "execution_count": 161,
     "metadata": {},
     "output_type": "execute_result"
    }
   ],
   "source": [
    "count"
   ]
  },
  {
   "cell_type": "code",
   "execution_count": null,
   "id": "15d60ecd",
   "metadata": {},
   "outputs": [],
   "source": []
  }
 ],
 "metadata": {
  "kernelspec": {
   "display_name": "Python 3",
   "language": "python",
   "name": "python3"
  },
  "language_info": {
   "codemirror_mode": {
    "name": "ipython",
    "version": 3
   },
   "file_extension": ".py",
   "mimetype": "text/x-python",
   "name": "python",
   "nbconvert_exporter": "python",
   "pygments_lexer": "ipython3",
   "version": "3.7.10"
  }
 },
 "nbformat": 4,
 "nbformat_minor": 5
}
